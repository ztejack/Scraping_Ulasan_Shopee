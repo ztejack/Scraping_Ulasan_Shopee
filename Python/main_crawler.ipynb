{
  "nbformat": 4,
  "nbformat_minor": 0,
  "metadata": {
    "colab": {
      "name": "Tugas Akhir PBA.ipynb",
      "provenance": [],
      "collapsed_sections": []
    },
    "kernelspec": {
      "name": "python3",
      "display_name": "Python 3"
    },
    "language_info": {
      "name": "python"
    }
  },
  "cells": [
    {
      "cell_type": "markdown",
      "source": [
        "# **Scraping Data Komentar Shopee**"
      ],
      "metadata": {
        "id": "oFWpc2NZ70oK"
      }
    },
    {
      "cell_type": "markdown",
      "source": [
        "## **Importing Library**"
      ],
      "metadata": {
        "id": "hQJxBOop8Add"
      }
    },
    {
      "cell_type": "code",
      "execution_count": 1,
      "metadata": {
        "id": "QR8L53X2apUT"
      },
      "outputs": [],
      "source": [
        "import requests\n",
        "import pandas as pd\n",
        "import numpy as np"
      ]
    },
    {
      "cell_type": "markdown",
      "source": [
        "### **Scrape ShopID & ProductID**"
      ],
      "metadata": {
        "id": "tBDoSalg8Nv2"
      }
    },
    {
      "cell_type": "code",
      "source": [
        "#Scraping\n",
        "shopee_url = 'https://shopee.co.id'\n",
        "keyword = 'Hijab Instant'\n",
        "\n",
        "header = {\n",
        "    'User-Agent' : 'Mozilla/5.0 (Windows NT 10.0; Win64; x64) AppleWebKit/537.36 (KHTML, like Gecko) Chrome/101.0.4951.54 Safari/537.36 Edg/101.0.1210.39', \n",
        "    'Referer' : '{}search?keyword={}'.format(shopee_url, keyword),\n",
        "    'sz-token' : 'GUsGrIGz7CIeqhWCMfZ4BQ==|Bt/J+r9LI+SnjuMx1Kpc8q89/iq7/eNL4dEp920zZIG1jmRSi0t99fkwvQwq7MMFXLMrIUPUQJFPPLXwbKF7+mA=|UPCnUaD/JM6rovp2|05|3'\n",
        "}\n",
        "#URL Api Shopee\n",
        "urlApiSeacrh = 'https://shopee.co.id/api/v4/search/search_items?by=relevancy&keyword={}&limit=100&newest=0&order=desc&page_type=search&scenario=PAGE_GLOBAL_SEARCH&version=2'.format(keyword)\n",
        "urlApiRatings = 'https://shopee.co.id/api/v2/item/get_ratings'"
      ],
      "metadata": {
        "id": "-v71pu03arWD"
      },
      "execution_count": 167,
      "outputs": []
    },
    {
      "cell_type": "code",
      "source": [
        "# Fungsi Scrape data shopid & productid\n",
        "def Scrape_Id():\n",
        "  # API request \n",
        "  r = requests.get(urlApiSeacrh, headers = header).json()\n",
        "  shopid, productid  = [], []\n",
        "\n",
        "  for item in r['items']:\n",
        "      shopid.append(item['item_basic']['shopid'])\n",
        "      productid.append(item['item_basic']['itemid'])\n",
        "      \n",
        "  framex = pd.DataFrame(shopid, columns=['shop_id'])\n",
        "  framex['product_id'] = productid\n",
        "  return framex"
      ],
      "metadata": {
        "id": "IpT8pu8w7O7g"
      },
      "execution_count": 173,
      "outputs": []
    },
    {
      "cell_type": "code",
      "source": [
        "# framex"
      ],
      "metadata": {
        "id": "eYH0xnl9gvVG"
      },
      "execution_count": 4,
      "outputs": []
    },
    {
      "cell_type": "markdown",
      "source": [
        "### **Scrape Rating**"
      ],
      "metadata": {
        "id": "cvTwV1n6_bRt"
      }
    },
    {
      "cell_type": "code",
      "source": [
        "def Scrape_Rating(url,dataID):\n",
        "  framey = pd.DataFrame(columns=['Akun','Isi Ulasan','Tag Ulasan','Bintang'])\n",
        "  \n",
        "  for x in range(0,len(dataID)):\n",
        "    # Parameter\n",
        "    params = {\n",
        "      \"filter\": \"0\",\n",
        "      \"flag\": \"1\",\n",
        "      \"itemid\": dataID['product_id'][x],\n",
        "      \"limit\": \"20\", #->limit jumlah ulasan per product \n",
        "      \"offset\": \"10\",\n",
        "      \"shopid\": dataID['shop_id'][x],\n",
        "      \"type\": \"0\"\n",
        "      }\n",
        "    # API request\n",
        "    r = requests.get(url, params=params).json()\n",
        "    frame = pd.DataFrame(columns=['Akun','Isi Ulasan','Tag Ulasan','Bintang'])\n",
        "      \n",
        "    for item in r['data']['ratings']:\n",
        "      tags = ''\n",
        "      tagx = item['tags']\n",
        "      if tagx != None:\n",
        "        for x in range(0, len(tagx)):\n",
        "          tag = tagx[x].get('tag_description')\n",
        "          tags += tag + ' '\n",
        "      else:\n",
        "        tags = np.nan\n",
        "      frame.loc[len(frame.index)] = [item['author_username'], item['comment'], tags, item['rating_star']]\n",
        "    framey = framey.append(frame,ignore_index=True)\n",
        "  return framey"
      ],
      "metadata": {
        "id": "3WmGg7JHhjHb"
      },
      "execution_count": 180,
      "outputs": []
    },
    {
      "cell_type": "code",
      "source": [
        "# DataID"
      ],
      "metadata": {
        "id": "EE5F_Y4oAPSP"
      },
      "execution_count": null,
      "outputs": []
    },
    {
      "cell_type": "markdown",
      "source": [
        "## **Pemanggilan Fungsi**"
      ],
      "metadata": {
        "id": "YqN2B1NWBL4r"
      }
    },
    {
      "cell_type": "code",
      "source": [
        "# DataID = Scrape_Id()\n",
        "Data = Scrape_Rating(urlApiRatings,DataID)"
      ],
      "metadata": {
        "id": "rUT1UdQPiGjB"
      },
      "execution_count": 181,
      "outputs": []
    },
    {
      "cell_type": "code",
      "source": [
        "Data"
      ],
      "metadata": {
        "id": "wBp01Tfa74nY",
        "colab": {
          "base_uri": "https://localhost:8080/",
          "height": 502
        },
        "outputId": "117e467e-11c9-40f2-ee77-2cde9859ca60"
      },
      "execution_count": 184,
      "outputs": [
        {
          "output_type": "execute_result",
          "data": {
            "text/plain": [
              "                      Akun                                         Isi Ulasan  \\\n",
              "0                  l*****h  Alhamdulillah barangnya sampai..maaf ga sesuai...   \n",
              "1                  j*****c  Bahannya lumayan bagus, kepalanya gede banget,...   \n",
              "2                  qintaaf  Alhamdulillah paketnya cepet sampai, harga lum...   \n",
              "3               wec9rphkbv  Bagus bngt kerudung nya 😍 sama seperti yang ak...   \n",
              "4                  f*****a  Bahannya adem\\nNyaman di pake\\nCocok untuk sko...   \n",
              "...                    ...                                                ...   \n",
              "1939              efrylala                                                      \n",
              "1940  novita_uli_sihombing                        Sesuai brg nya\\nThanks toko   \n",
              "1941           ferinariani  Produk baik, harga baik, pengemasan rapi, peng...   \n",
              "1942               c*****y  Alhamduah paket mendarat dengan selamat. Terim...   \n",
              "1943               d*****1  Bahan adem n nyaman dipake, pengiriman barang ...   \n",
              "\n",
              "                                             Tag Ulasan Bintang  \n",
              "0        Kualitas produk sangat baik. Produk original.        5  \n",
              "1     Kualitas produk sangat baik. Produk original. ...       5  \n",
              "2     Kualitas produk sangat baik. Produk original. ...       5  \n",
              "3     Harga produk sangat baik. Kecepatan pengiriman...       5  \n",
              "4     Kualitas produk sangat baik. Harga produk sang...       5  \n",
              "...                                                 ...     ...  \n",
              "1939                                                NaN       5  \n",
              "1940                                                NaN       5  \n",
              "1941                                                NaN       5  \n",
              "1942                                                NaN       5  \n",
              "1943     Kualitas produk sangat baik. Produk original.        5  \n",
              "\n",
              "[1944 rows x 4 columns]"
            ],
            "text/html": [
              "\n",
              "  <div id=\"df-eea1f875-3d2a-4ef2-bdf0-f68eea39c9e2\">\n",
              "    <div class=\"colab-df-container\">\n",
              "      <div>\n",
              "<style scoped>\n",
              "    .dataframe tbody tr th:only-of-type {\n",
              "        vertical-align: middle;\n",
              "    }\n",
              "\n",
              "    .dataframe tbody tr th {\n",
              "        vertical-align: top;\n",
              "    }\n",
              "\n",
              "    .dataframe thead th {\n",
              "        text-align: right;\n",
              "    }\n",
              "</style>\n",
              "<table border=\"1\" class=\"dataframe\">\n",
              "  <thead>\n",
              "    <tr style=\"text-align: right;\">\n",
              "      <th></th>\n",
              "      <th>Akun</th>\n",
              "      <th>Isi Ulasan</th>\n",
              "      <th>Tag Ulasan</th>\n",
              "      <th>Bintang</th>\n",
              "    </tr>\n",
              "  </thead>\n",
              "  <tbody>\n",
              "    <tr>\n",
              "      <th>0</th>\n",
              "      <td>l*****h</td>\n",
              "      <td>Alhamdulillah barangnya sampai..maaf ga sesuai...</td>\n",
              "      <td>Kualitas produk sangat baik. Produk original.</td>\n",
              "      <td>5</td>\n",
              "    </tr>\n",
              "    <tr>\n",
              "      <th>1</th>\n",
              "      <td>j*****c</td>\n",
              "      <td>Bahannya lumayan bagus, kepalanya gede banget,...</td>\n",
              "      <td>Kualitas produk sangat baik. Produk original. ...</td>\n",
              "      <td>5</td>\n",
              "    </tr>\n",
              "    <tr>\n",
              "      <th>2</th>\n",
              "      <td>qintaaf</td>\n",
              "      <td>Alhamdulillah paketnya cepet sampai, harga lum...</td>\n",
              "      <td>Kualitas produk sangat baik. Produk original. ...</td>\n",
              "      <td>5</td>\n",
              "    </tr>\n",
              "    <tr>\n",
              "      <th>3</th>\n",
              "      <td>wec9rphkbv</td>\n",
              "      <td>Bagus bngt kerudung nya 😍 sama seperti yang ak...</td>\n",
              "      <td>Harga produk sangat baik. Kecepatan pengiriman...</td>\n",
              "      <td>5</td>\n",
              "    </tr>\n",
              "    <tr>\n",
              "      <th>4</th>\n",
              "      <td>f*****a</td>\n",
              "      <td>Bahannya adem\\nNyaman di pake\\nCocok untuk sko...</td>\n",
              "      <td>Kualitas produk sangat baik. Harga produk sang...</td>\n",
              "      <td>5</td>\n",
              "    </tr>\n",
              "    <tr>\n",
              "      <th>...</th>\n",
              "      <td>...</td>\n",
              "      <td>...</td>\n",
              "      <td>...</td>\n",
              "      <td>...</td>\n",
              "    </tr>\n",
              "    <tr>\n",
              "      <th>1939</th>\n",
              "      <td>efrylala</td>\n",
              "      <td></td>\n",
              "      <td>NaN</td>\n",
              "      <td>5</td>\n",
              "    </tr>\n",
              "    <tr>\n",
              "      <th>1940</th>\n",
              "      <td>novita_uli_sihombing</td>\n",
              "      <td>Sesuai brg nya\\nThanks toko</td>\n",
              "      <td>NaN</td>\n",
              "      <td>5</td>\n",
              "    </tr>\n",
              "    <tr>\n",
              "      <th>1941</th>\n",
              "      <td>ferinariani</td>\n",
              "      <td>Produk baik, harga baik, pengemasan rapi, peng...</td>\n",
              "      <td>NaN</td>\n",
              "      <td>5</td>\n",
              "    </tr>\n",
              "    <tr>\n",
              "      <th>1942</th>\n",
              "      <td>c*****y</td>\n",
              "      <td>Alhamduah paket mendarat dengan selamat. Terim...</td>\n",
              "      <td>NaN</td>\n",
              "      <td>5</td>\n",
              "    </tr>\n",
              "    <tr>\n",
              "      <th>1943</th>\n",
              "      <td>d*****1</td>\n",
              "      <td>Bahan adem n nyaman dipake, pengiriman barang ...</td>\n",
              "      <td>Kualitas produk sangat baik. Produk original.</td>\n",
              "      <td>5</td>\n",
              "    </tr>\n",
              "  </tbody>\n",
              "</table>\n",
              "<p>1944 rows × 4 columns</p>\n",
              "</div>\n",
              "      <button class=\"colab-df-convert\" onclick=\"convertToInteractive('df-eea1f875-3d2a-4ef2-bdf0-f68eea39c9e2')\"\n",
              "              title=\"Convert this dataframe to an interactive table.\"\n",
              "              style=\"display:none;\">\n",
              "        \n",
              "  <svg xmlns=\"http://www.w3.org/2000/svg\" height=\"24px\"viewBox=\"0 0 24 24\"\n",
              "       width=\"24px\">\n",
              "    <path d=\"M0 0h24v24H0V0z\" fill=\"none\"/>\n",
              "    <path d=\"M18.56 5.44l.94 2.06.94-2.06 2.06-.94-2.06-.94-.94-2.06-.94 2.06-2.06.94zm-11 1L8.5 8.5l.94-2.06 2.06-.94-2.06-.94L8.5 2.5l-.94 2.06-2.06.94zm10 10l.94 2.06.94-2.06 2.06-.94-2.06-.94-.94-2.06-.94 2.06-2.06.94z\"/><path d=\"M17.41 7.96l-1.37-1.37c-.4-.4-.92-.59-1.43-.59-.52 0-1.04.2-1.43.59L10.3 9.45l-7.72 7.72c-.78.78-.78 2.05 0 2.83L4 21.41c.39.39.9.59 1.41.59.51 0 1.02-.2 1.41-.59l7.78-7.78 2.81-2.81c.8-.78.8-2.07 0-2.86zM5.41 20L4 18.59l7.72-7.72 1.47 1.35L5.41 20z\"/>\n",
              "  </svg>\n",
              "      </button>\n",
              "      \n",
              "  <style>\n",
              "    .colab-df-container {\n",
              "      display:flex;\n",
              "      flex-wrap:wrap;\n",
              "      gap: 12px;\n",
              "    }\n",
              "\n",
              "    .colab-df-convert {\n",
              "      background-color: #E8F0FE;\n",
              "      border: none;\n",
              "      border-radius: 50%;\n",
              "      cursor: pointer;\n",
              "      display: none;\n",
              "      fill: #1967D2;\n",
              "      height: 32px;\n",
              "      padding: 0 0 0 0;\n",
              "      width: 32px;\n",
              "    }\n",
              "\n",
              "    .colab-df-convert:hover {\n",
              "      background-color: #E2EBFA;\n",
              "      box-shadow: 0px 1px 2px rgba(60, 64, 67, 0.3), 0px 1px 3px 1px rgba(60, 64, 67, 0.15);\n",
              "      fill: #174EA6;\n",
              "    }\n",
              "\n",
              "    [theme=dark] .colab-df-convert {\n",
              "      background-color: #3B4455;\n",
              "      fill: #D2E3FC;\n",
              "    }\n",
              "\n",
              "    [theme=dark] .colab-df-convert:hover {\n",
              "      background-color: #434B5C;\n",
              "      box-shadow: 0px 1px 3px 1px rgba(0, 0, 0, 0.15);\n",
              "      filter: drop-shadow(0px 1px 2px rgba(0, 0, 0, 0.3));\n",
              "      fill: #FFFFFF;\n",
              "    }\n",
              "  </style>\n",
              "\n",
              "      <script>\n",
              "        const buttonEl =\n",
              "          document.querySelector('#df-eea1f875-3d2a-4ef2-bdf0-f68eea39c9e2 button.colab-df-convert');\n",
              "        buttonEl.style.display =\n",
              "          google.colab.kernel.accessAllowed ? 'block' : 'none';\n",
              "\n",
              "        async function convertToInteractive(key) {\n",
              "          const element = document.querySelector('#df-eea1f875-3d2a-4ef2-bdf0-f68eea39c9e2');\n",
              "          const dataTable =\n",
              "            await google.colab.kernel.invokeFunction('convertToInteractive',\n",
              "                                                     [key], {});\n",
              "          if (!dataTable) return;\n",
              "\n",
              "          const docLinkHtml = 'Like what you see? Visit the ' +\n",
              "            '<a target=\"_blank\" href=https://colab.research.google.com/notebooks/data_table.ipynb>data table notebook</a>'\n",
              "            + ' to learn more about interactive tables.';\n",
              "          element.innerHTML = '';\n",
              "          dataTable['output_type'] = 'display_data';\n",
              "          await google.colab.output.renderOutput(dataTable, element);\n",
              "          const docLink = document.createElement('div');\n",
              "          docLink.innerHTML = docLinkHtml;\n",
              "          element.appendChild(docLink);\n",
              "        }\n",
              "      </script>\n",
              "    </div>\n",
              "  </div>\n",
              "  "
            ]
          },
          "metadata": {},
          "execution_count": 184
        }
      ]
    },
    {
      "cell_type": "markdown",
      "source": [
        "## **Eksport dataframe kedalan CSV**"
      ],
      "metadata": {
        "id": "fb156ByME7il"
      }
    },
    {
      "cell_type": "code",
      "source": [
        "Data.to_csv('data_ulasan.csv')"
      ],
      "metadata": {
        "id": "4ZDWDbFff1K6"
      },
      "execution_count": 183,
      "outputs": []
    },
    {
      "cell_type": "code",
      "source": [
        ""
      ],
      "metadata": {
        "id": "T5371KGvFiuG"
      },
      "execution_count": null,
      "outputs": []
    }
  ]
}
